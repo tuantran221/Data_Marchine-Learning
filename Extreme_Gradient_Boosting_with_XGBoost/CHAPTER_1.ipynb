{
  "nbformat": 4,
  "nbformat_minor": 0,
  "metadata": {
    "colab": {
      "name": "Extreme Gradient Boosting with XGBoost.ipynb",
      "provenance": [],
      "authorship_tag": "ABX9TyPFebMXEUxfLYpnGoOq3vyu",
      "include_colab_link": true
    },
    "kernelspec": {
      "name": "python3",
      "display_name": "Python 3"
    },
    "language_info": {
      "name": "python"
    }
  },
  "cells": [
    {
      "cell_type": "markdown",
      "metadata": {
        "id": "view-in-github",
        "colab_type": "text"
      },
      "source": [
        "<a href=\"https://colab.research.google.com/github/tuantran221/intro-Machine-Learning/blob/main/Extreme_Gradient_Boosting_with_XGBoost/CHAPTER_1.ipynb\" target=\"_parent\"><img src=\"https://colab.research.google.com/assets/colab-badge.svg\" alt=\"Open In Colab\"/></a>"
      ]
    },
    {
      "cell_type": "markdown",
      "metadata": {
        "id": "cOXOiNE9s5tR"
      },
      "source": [
        "# Extreme Gradient Boosting with XGBoost\n",
        "**Chapter 1: Classification with XGBoost**\n",
        "\n",
        "\n",
        "*  This chapter will introduce you to the fundamental idea behind XGBoost—boosted learners. Once you understand how XGBoost works, you’ll apply it to solve a common classification problem found in industry: predicting whether a customer will stop being a customer at some point in the future.\n"
      ]
    },
    {
      "cell_type": "markdown",
      "metadata": {
        "id": "fQ3ltV4vuyEO"
      },
      "source": [
        "# set up and read data"
      ]
    },
    {
      "cell_type": "code",
      "metadata": {
        "id": "7YD3rK-Ru9C7"
      },
      "source": [
        "import pandas as pd\n",
        "import numpy as np\n",
        "from sklearn.model_selection import train_test_split"
      ],
      "execution_count": 10,
      "outputs": []
    },
    {
      "cell_type": "code",
      "metadata": {
        "colab": {
          "base_uri": "https://localhost:8080/",
          "height": 224
        },
        "id": "G7_XMmyXufvX",
        "outputId": "dc128dda-7dde-437b-c4a9-b0d847bc2186"
      },
      "source": [
        "churn_data = pd.read_csv(\"https://raw.githubusercontent.com/thaile-isme/datasets-for-datacamp/main/churn_data.csv?fbclid=IwAR099ifEFDVWIi5NO_WdpyxPoSXsriYyP9pyXg4tcd8yJwWLM-MG-xjEvyI\")\n",
        "churn_data.head()"
      ],
      "execution_count": 8,
      "outputs": [
        {
          "output_type": "execute_result",
          "data": {
            "text/html": [
              "<div>\n",
              "<style scoped>\n",
              "    .dataframe tbody tr th:only-of-type {\n",
              "        vertical-align: middle;\n",
              "    }\n",
              "\n",
              "    .dataframe tbody tr th {\n",
              "        vertical-align: top;\n",
              "    }\n",
              "\n",
              "    .dataframe thead th {\n",
              "        text-align: right;\n",
              "    }\n",
              "</style>\n",
              "<table border=\"1\" class=\"dataframe\">\n",
              "  <thead>\n",
              "    <tr style=\"text-align: right;\">\n",
              "      <th></th>\n",
              "      <th>avg_dist</th>\n",
              "      <th>avg_rating_by_driver</th>\n",
              "      <th>avg_rating_of_driver</th>\n",
              "      <th>avg_inc_price</th>\n",
              "      <th>inc_pct</th>\n",
              "      <th>weekday_pct</th>\n",
              "      <th>fancy_car_user</th>\n",
              "      <th>city_Carthag</th>\n",
              "      <th>city_Harko</th>\n",
              "      <th>phone_iPhone</th>\n",
              "      <th>first_month_cat_more_1_trip</th>\n",
              "      <th>first_month_cat_no_trips</th>\n",
              "      <th>month_5_still_here</th>\n",
              "    </tr>\n",
              "  </thead>\n",
              "  <tbody>\n",
              "    <tr>\n",
              "      <th>0</th>\n",
              "      <td>3.67</td>\n",
              "      <td>5.0</td>\n",
              "      <td>4.7</td>\n",
              "      <td>1.10</td>\n",
              "      <td>15.4</td>\n",
              "      <td>46.2</td>\n",
              "      <td>True</td>\n",
              "      <td>0</td>\n",
              "      <td>1</td>\n",
              "      <td>1</td>\n",
              "      <td>1</td>\n",
              "      <td>0</td>\n",
              "      <td>1</td>\n",
              "    </tr>\n",
              "    <tr>\n",
              "      <th>1</th>\n",
              "      <td>8.26</td>\n",
              "      <td>5.0</td>\n",
              "      <td>5.0</td>\n",
              "      <td>1.00</td>\n",
              "      <td>0.0</td>\n",
              "      <td>50.0</td>\n",
              "      <td>False</td>\n",
              "      <td>1</td>\n",
              "      <td>0</td>\n",
              "      <td>0</td>\n",
              "      <td>0</td>\n",
              "      <td>1</td>\n",
              "      <td>0</td>\n",
              "    </tr>\n",
              "    <tr>\n",
              "      <th>2</th>\n",
              "      <td>0.77</td>\n",
              "      <td>5.0</td>\n",
              "      <td>4.3</td>\n",
              "      <td>1.00</td>\n",
              "      <td>0.0</td>\n",
              "      <td>100.0</td>\n",
              "      <td>False</td>\n",
              "      <td>1</td>\n",
              "      <td>0</td>\n",
              "      <td>1</td>\n",
              "      <td>1</td>\n",
              "      <td>0</td>\n",
              "      <td>0</td>\n",
              "    </tr>\n",
              "    <tr>\n",
              "      <th>3</th>\n",
              "      <td>2.36</td>\n",
              "      <td>4.9</td>\n",
              "      <td>4.6</td>\n",
              "      <td>1.14</td>\n",
              "      <td>20.0</td>\n",
              "      <td>80.0</td>\n",
              "      <td>True</td>\n",
              "      <td>0</td>\n",
              "      <td>1</td>\n",
              "      <td>1</td>\n",
              "      <td>1</td>\n",
              "      <td>0</td>\n",
              "      <td>1</td>\n",
              "    </tr>\n",
              "    <tr>\n",
              "      <th>4</th>\n",
              "      <td>3.13</td>\n",
              "      <td>4.9</td>\n",
              "      <td>4.4</td>\n",
              "      <td>1.19</td>\n",
              "      <td>11.8</td>\n",
              "      <td>82.4</td>\n",
              "      <td>False</td>\n",
              "      <td>0</td>\n",
              "      <td>0</td>\n",
              "      <td>0</td>\n",
              "      <td>1</td>\n",
              "      <td>0</td>\n",
              "      <td>0</td>\n",
              "    </tr>\n",
              "  </tbody>\n",
              "</table>\n",
              "</div>"
            ],
            "text/plain": [
              "   avg_dist  avg_rating_by_driver  ...  first_month_cat_no_trips  month_5_still_here\n",
              "0      3.67                   5.0  ...                         0                   1\n",
              "1      8.26                   5.0  ...                         1                   0\n",
              "2      0.77                   5.0  ...                         0                   0\n",
              "3      2.36                   4.9  ...                         0                   1\n",
              "4      3.13                   4.9  ...                         0                   0\n",
              "\n",
              "[5 rows x 13 columns]"
            ]
          },
          "metadata": {},
          "execution_count": 8
        }
      ]
    },
    {
      "cell_type": "markdown",
      "metadata": {
        "id": "Nv7vbalZzQvg"
      },
      "source": [
        "#Introducing XGBoost"
      ]
    },
    {
      "cell_type": "code",
      "metadata": {
        "colab": {
          "base_uri": "https://localhost:8080/"
        },
        "id": "7YrJGWNRu90r",
        "outputId": "1dffe834-fc49-4267-d2be-f88351ce13dd"
      },
      "source": [
        "# Import xgboost\n",
        "import xgboost as xgb \n",
        "\n",
        "# Create arrays for the features and the target: X, y\n",
        "X, y = churn_data.iloc[:,:-1], churn_data.iloc[:,-1]\n",
        "\n",
        "# Create the training and test sets\n",
        "X_train, X_test, y_train, y_test= train_test_split(X, y, test_size=0.2, random_state=123)\n",
        "\n",
        "# Instantiate the XGBClassifier: xg_cl\n",
        "xg_cl = xgb.XGBClassifier(objective='binary:logistic', n_estimators=10, seed=123)\n",
        "\n",
        "# Fit the classifier to the training set\n",
        "xg_cl.fit(X_train,y_train)\n",
        "\n",
        "# Predict the labels of the test set: preds\n",
        "preds = xg_cl.predict(X_test)\n",
        "\n",
        "# Compute the accuracy: accuracy\n",
        "accuracy = float(np.sum(preds==y_test))/y_test.shape[0]\n",
        "print(\"accuracy: %f\" % (accuracy))\n"
      ],
      "execution_count": 11,
      "outputs": [
        {
          "output_type": "stream",
          "name": "stdout",
          "text": [
            "accuracy: 0.743300\n"
          ]
        }
      ]
    },
    {
      "cell_type": "markdown",
      "metadata": {
        "id": "duS3OpYwvXpf"
      },
      "source": [
        "# Decision trees\n",
        "**What is a decision tree?**\n",
        "Decision Trees\n",
        "\n",
        "*   Base learner - Individual learning algorithm in an ensemble algorithm\n",
        "*   Composed of a series of binary questions\n",
        "*   Predictions happen at the \"leaves\" of the tree\n",
        "  *   leaf nodes always contain decision values\n",
        "\n",
        "* Constructed iteratively (one decision at a time)\n",
        "  * Until a stopping criterion is met\n",
        "* Individual decision trees tend to overfit\n",
        "  * low bias, high variance\n",
        "  * tend to overfit training data, and generalize poorly to new data\n",
        "XGBoost\n",
        "\n",
        "* Uses classification and regression trees (CART)\n",
        "* Contain real-valued score in each leaf\n",
        "  * regardless of classification or regression problem\n",
        "  * can be thresholded to convert into categories for classification problems \n",
        "\n",
        "\n",
        "\n",
        "\n",
        "\n"
      ]
    },
    {
      "cell_type": "code",
      "metadata": {
        "colab": {
          "base_uri": "https://localhost:8080/"
        },
        "id": "6ea1dP9QvwI2",
        "outputId": "5e4726e3-e817-4e02-cc45-c1c87289892a"
      },
      "source": [
        "\n",
        "# Decision trees\n",
        "\n",
        "# Import the necessary modules\n",
        "from sklearn.model_selection import train_test_split\n",
        "from sklearn.tree import DecisionTreeClassifier\n",
        "from sklearn import datasets\n",
        "\n",
        "bc = datasets.load_breast_cancer()\n",
        "X = bc.data\n",
        "y = bc.target\n",
        "\n",
        "X.shape, y.shape"
      ],
      "execution_count": 13,
      "outputs": [
        {
          "output_type": "execute_result",
          "data": {
            "text/plain": [
              "((569, 30), (569,))"
            ]
          },
          "metadata": {},
          "execution_count": 13
        }
      ]
    },
    {
      "cell_type": "code",
      "metadata": {
        "colab": {
          "base_uri": "https://localhost:8080/"
        },
        "id": "eirdWpgsvCmM",
        "outputId": "75543a70-5bf7-4ad1-e4cf-6ec44db038ac"
      },
      "source": [
        "# Create the training and test sets\n",
        "X_train, X_test, y_train, y_test = train_test_split(X, y, test_size=0.2, random_state=123)\n",
        "\n",
        "# Instantiate the classifier: dt_clf_4\n",
        "dt_clf_4 = DecisionTreeClassifier(max_depth=4)\n",
        "\n",
        "# Fit the classifier to the training set\n",
        "dt_clf_4.fit(X_train,y_train)\n",
        "\n",
        "# Predict the labels of the test set: y_pred_4\n",
        "y_pred_4 = dt_clf_4.predict(X_test)\n",
        "\n",
        "# Compute the accuracy of the predictions: accuracy\n",
        "accuracy = float(np.sum(y_pred_4==y_test))/y_test.shape[0]\n",
        "print(\"accuracy:\", accuracy)"
      ],
      "execution_count": 14,
      "outputs": [
        {
          "output_type": "stream",
          "name": "stdout",
          "text": [
            "accuracy: 0.9649122807017544\n"
          ]
        }
      ]
    },
    {
      "cell_type": "markdown",
      "metadata": {
        "id": "n0NKJvx_v9PB"
      },
      "source": [
        "#Measuring accuracy"
      ]
    },
    {
      "cell_type": "code",
      "metadata": {
        "colab": {
          "base_uri": "https://localhost:8080/"
        },
        "id": "Ds6P--rlvh5U",
        "outputId": "c991be0a-6458-42df-8f67-b37b62e18d2b"
      },
      "source": [
        "# Create arrays for the features and the target: X, y\n",
        "X, y = churn_data.iloc[:,:-1], churn_data.iloc[:,-1]\n",
        "\n",
        "# Create the DMatrix: churn_dmatrix\n",
        "churn_dmatrix = xgb.DMatrix(data=X, label=y)\n",
        " \n",
        "# Create the parameter dictionary: params\n",
        "params = {\"objective\":\"reg:logistic\", \"max_depth\":3}\n",
        " \n",
        "# Perform cross-validation: cv_results\n",
        "cv_results = xgb.cv(dtrain=churn_dmatrix, params=params, nfold=3, num_boost_round=5, metrics=\"error\", as_pandas=True, seed=123)\n",
        " \n",
        "# Print cv_results\n",
        "print(cv_results)\n",
        " \n",
        "# Print the accuracy\n",
        "print(((1-cv_results[\"test-error-mean\"]).iloc[-1]))"
      ],
      "execution_count": 15,
      "outputs": [
        {
          "output_type": "stream",
          "name": "stdout",
          "text": [
            "   train-error-mean  train-error-std  test-error-mean  test-error-std\n",
            "0           0.28232         0.002366          0.28378        0.001932\n",
            "1           0.26951         0.001855          0.27190        0.001932\n",
            "2           0.25605         0.003213          0.25798        0.003963\n",
            "3           0.25090         0.001845          0.25434        0.003827\n",
            "4           0.24654         0.001981          0.24852        0.000934\n",
            "0.75148\n"
          ]
        }
      ]
    },
    {
      "cell_type": "markdown",
      "metadata": {
        "id": "lLf0n2cOwkgg"
      },
      "source": [
        "#Measuring AUC"
      ]
    },
    {
      "cell_type": "code",
      "metadata": {
        "colab": {
          "base_uri": "https://localhost:8080/"
        },
        "id": "mrrJ3X87wcL3",
        "outputId": "09189466-260c-4710-8442-30c40f465829"
      },
      "source": [
        "# Perform cross_validation: cv_results\n",
        "cv_results = xgb.cv(dtrain=churn_dmatrix, params=params, \n",
        "                  nfold=3, num_boost_round=5, \n",
        "                  metrics=\"auc\", as_pandas=True, seed=123)\n",
        "\n",
        "# Print cv_results\n",
        "print(cv_results)\n",
        "\n",
        "# Print the AUC\n",
        "print((cv_results[\"test-auc-mean\"]).iloc[-1])"
      ],
      "execution_count": 16,
      "outputs": [
        {
          "output_type": "stream",
          "name": "stdout",
          "text": [
            "   train-auc-mean  train-auc-std  test-auc-mean  test-auc-std\n",
            "0        0.768893       0.001544       0.767863      0.002820\n",
            "1        0.790864       0.006758       0.789157      0.006846\n",
            "2        0.815872       0.003900       0.814476      0.005997\n",
            "3        0.822959       0.002018       0.821682      0.003912\n",
            "4        0.827528       0.000769       0.826191      0.001937\n",
            "0.826191\n"
          ]
        }
      ]
    }
  ]
}