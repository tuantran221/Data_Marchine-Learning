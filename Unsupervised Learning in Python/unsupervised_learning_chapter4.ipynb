{
  "nbformat": 4,
  "nbformat_minor": 0,
  "metadata": {
    "colab": {
      "name": "unsupervised learning chapter4",
      "provenance": [],
      "collapsed_sections": []
    },
    "kernelspec": {
      "name": "python3",
      "display_name": "Python 3"
    },
    "language_info": {
      "name": "python"
    }
  },
  "cells": [
    {
      "cell_type": "markdown",
      "metadata": {
        "id": "jV0f3u1glkJu"
      },
      "source": [
        "# Non-negative matrix factorization (NMF)\n",
        "NMF stands for \"non-negative matrix factorization\". NMF, like PCA, is a dimension reduction technique. In constract to PCA, however, NMF models are interpretable. This means an NMF models are easier to understand yourself, and much easier for you to explain to others. NMF can not be applied to every dataset, however. It is required that the sample features be \"non-negative\", so greater than or equal to 0."
      ]
    },
    {
      "cell_type": "markdown",
      "metadata": {
        "id": "VUncoKQelm1S"
      },
      "source": [
        "## Import depenencies"
      ]
    },
    {
      "cell_type": "code",
      "metadata": {
        "id": "2HYYwmLPhaHl"
      },
      "source": [
        "'''Main'''\n",
        "import pandas as pd\n",
        "import numpy as np\n",
        "import scipy\n",
        "\n",
        "'''Data viz'''\n",
        "from matplotlib import pyplot as plt\n",
        "\n",
        "%matplotlib inline\n",
        "\n",
        "'''Algorithms'''\n",
        "from sklearn.decomposition import NMF, PCA\n",
        "from sklearn.preprocessing import normalize, Normalizer, MaxAbsScaler\n",
        "from sklearn.pipeline import make_pipeline\n",
        "from sklearn.feature_extraction.text import TfidfVectorizer"
      ],
      "execution_count": null,
      "outputs": []
    },
    {
      "cell_type": "markdown",
      "metadata": {
        "id": "0NZ-OgjHFuoO"
      },
      "source": [
        "## Load the Data"
      ]
    },
    {
      "cell_type": "code",
      "metadata": {
        "colab": {
          "base_uri": "https://localhost:8080/"
        },
        "id": "NxjvjZSkm7Se",
        "outputId": "7d99e2d2-5a59-4261-ea17-bc15ed29417d"
      },
      "source": [
        "!wget 'https://assets.datacamp.com/production/repositories/655/datasets/8e2fbb5b8240c06602336f2148f3c42e317d1fdb/Wikipedia%20articles.zip'\n",
        "!unzip '/content/Wikipedia articles.zip'\n"
      ],
      "execution_count": null,
      "outputs": [
        {
          "output_type": "stream",
          "name": "stdout",
          "text": [
            "--2021-10-04 14:53:11--  https://assets.datacamp.com/production/repositories/655/datasets/8e2fbb5b8240c06602336f2148f3c42e317d1fdb/Wikipedia%20articles.zip\n",
            "Resolving assets.datacamp.com (assets.datacamp.com)... 104.18.16.147, 104.18.17.147\n",
            "Connecting to assets.datacamp.com (assets.datacamp.com)|104.18.16.147|:443... connected.\n",
            "HTTP request sent, awaiting response... 200 OK\n",
            "Length: 473831 (463K)\n",
            "Saving to: ‘Wikipedia articles.zip.1’\n",
            "\n",
            "Wikipedia articles. 100%[===================>] 462.73K  --.-KB/s    in 0.1s    \n",
            "\n",
            "2021-10-04 14:53:12 (3.26 MB/s) - ‘Wikipedia articles.zip.1’ saved [473831/473831]\n",
            "\n",
            "Archive:  /content/Wikipedia articles.zip\n",
            "replace Wikipedia articles/preprocessing.md? [y]es, [n]o, [A]ll, [N]one, [r]ename: "
          ]
        }
      ]
    },
    {
      "cell_type": "code",
      "metadata": {
        "id": "S-TYZpBXm2HA"
      },
      "source": [
        "articles = pd.read_csv('/content/Wikipedia articles/wikipedia-vectors.csv', index_col=0)\n",
        "titles = list(articles.columns)\n",
        "\n",
        "articles = scipy.sparse.csr_matrix(articles.values) # To crs_matrix form\n",
        "articles = articles.reshape((60, -1))"
      ],
      "execution_count": null,
      "outputs": []
    },
    {
      "cell_type": "markdown",
      "metadata": {
        "id": "pxcArn0xl0ww"
      },
      "source": [
        "# NMF applied to Wikipedia articles\n",
        "\n",
        "In the video, you saw NMF applied to transform a toy word-frequency array. Now it's your turn to apply NMF, this time using the tf-idf word-frequency array of Wikipedia articles, given as a csr matrix **`articles`**. Here, fit the model and transform the articles."
      ]
    },
    {
      "cell_type": "code",
      "metadata": {
        "id": "AV3dEF58T083",
        "colab": {
          "base_uri": "https://localhost:8080/"
        },
        "outputId": "f98275c0-92af-4845-886d-015bc8d0f162"
      },
      "source": [
        "# Create an NMF instance: model\n",
        "model = NMF(n_components=6)\n",
        "\n",
        "# Fit the model to articles\n",
        "model.fit(articles)\n",
        "\n",
        "# Transform the articles: nmf_features\n",
        "nmf_features = model.transform(articles)\n",
        "\n",
        "# Print the NMF features\n",
        "print(nmf_features.round(2))"
      ],
      "execution_count": null,
      "outputs": [
        {
          "output_type": "stream",
          "name": "stdout",
          "text": [
            "[[0.01 0.02 0.03 0.04 0.02 0.05]\n",
            " [0.01 0.01 0.05 0.04 0.03 0.07]\n",
            " [0.01 0.02 0.01 0.01 0.03 0.03]\n",
            " [0.02 0.02 0.   0.01 0.02 0.03]\n",
            " [1.09 0.   0.   0.   0.   0.  ]\n",
            " [0.   0.01 0.02 0.01 0.01 0.02]\n",
            " [0.04 0.01 0.03 0.02 0.03 0.06]\n",
            " [0.01 0.02 0.02 0.04 0.01 0.03]\n",
            " [0.01 0.02 0.02 0.01 0.03 0.06]\n",
            " [0.   0.   0.   0.   0.   1.31]\n",
            " [0.01 0.01 0.07 0.02 0.03 0.02]\n",
            " [0.   0.01 0.01 0.01 0.01 0.02]\n",
            " [0.   0.03 0.02 0.02 0.01 0.02]\n",
            " [0.01 0.02 0.04 0.03 0.03 0.03]\n",
            " [0.   0.01 0.01 0.01 0.01 0.01]\n",
            " [0.02 0.01 0.01 0.01 0.01 0.02]\n",
            " [0.01 0.03 0.02 0.01 0.01 0.01]\n",
            " [0.01 0.02 0.01 0.01 0.01 0.02]\n",
            " [0.01 0.03 0.01 0.02 0.03 0.04]\n",
            " [0.02 0.01 0.01 0.01 0.01 0.01]\n",
            " [0.01 0.02 0.01 0.02 0.02 0.02]\n",
            " [0.   0.   1.39 0.   0.   0.  ]\n",
            " [0.01 0.09 0.02 0.03 0.02 0.11]\n",
            " [0.   0.   0.   1.17 0.   0.  ]\n",
            " [0.01 0.01 0.03 0.02 0.02 0.02]\n",
            " [0.   0.01 0.1  0.03 0.02 0.02]\n",
            " [0.   0.01 0.01 0.01 0.02 0.06]\n",
            " [0.02 0.02 0.02 0.02 0.04 0.05]\n",
            " [0.   0.01 0.02 0.01 0.01 0.01]\n",
            " [0.01 0.04 0.04 0.03 0.03 0.03]\n",
            " [0.01 0.01 0.02 0.02 0.02 0.02]\n",
            " [0.01 0.02 0.02 0.03 0.02 0.01]\n",
            " [0.04 0.01 0.02 0.05 0.02 0.03]\n",
            " [0.01 0.03 0.02 0.02 0.02 0.03]\n",
            " [0.01 0.02 0.04 0.03 0.02 0.01]\n",
            " [0.03 0.04 0.01 0.02 0.03 0.02]\n",
            " [0.02 0.02 0.02 0.02 0.01 0.02]\n",
            " [0.01 0.02 0.02 0.02 0.02 0.02]\n",
            " [0.01 0.02 0.01 0.02 0.01 0.03]\n",
            " [0.01 0.01 0.02 0.01 0.01 0.01]\n",
            " [0.01 0.02 0.02 0.03 0.05 0.02]\n",
            " [0.01 0.01 0.01 0.02 0.02 0.02]\n",
            " [0.01 0.01 0.03 0.01 0.02 0.02]\n",
            " [0.01 0.03 0.01 0.01 0.02 0.03]\n",
            " [0.01 0.03 0.02 0.02 0.02 0.02]\n",
            " [0.   0.01 0.03 0.01 0.01 0.01]\n",
            " [0.01 0.02 0.02 0.01 0.02 0.02]\n",
            " [0.01 0.02 0.02 0.02 0.06 0.02]\n",
            " [0.   1.3  0.   0.   0.   0.  ]\n",
            " [0.01 0.03 0.01 0.01 0.01 0.03]\n",
            " [0.01 0.02 0.01 0.01 0.04 0.03]\n",
            " [0.01 0.02 0.04 0.02 0.02 0.02]\n",
            " [0.   0.01 0.01 0.02 0.02 0.02]\n",
            " [0.01 0.02 0.01 0.02 0.01 0.02]\n",
            " [0.02 0.02 0.04 0.02 0.03 0.01]\n",
            " [0.02 0.03 0.04 0.02 0.04 0.05]\n",
            " [0.   0.09 0.01 0.02 0.01 0.01]\n",
            " [0.   0.01 0.01 0.12 0.03 0.02]\n",
            " [0.   0.   0.   0.   1.21 0.  ]\n",
            " [0.01 0.02 0.02 0.06 0.04 0.05]]\n"
          ]
        }
      ]
    },
    {
      "cell_type": "markdown",
      "metadata": {
        "id": "4mdkuhuAn6pe"
      },
      "source": [
        "# NMF features of the Wikipedia articles\n",
        "\n",
        "Now you will explore the NMF features you created in the previous exercise. A solution to the previous exercise has been pre-loaded, so the array **`nmf_features`** is available. Also available is a list **`titles`** giving the title of each Wikipedia article.\n",
        "\n",
        "When investigating the features, notice that for both actors, the NMF feature 3 has by far the highest value. This means that both articles are reconstructed using mainly the 3rd NMF component."
      ]
    },
    {
      "cell_type": "code",
      "metadata": {
        "colab": {
          "base_uri": "https://localhost:8080/"
        },
        "id": "L9_LvVDeT3wH",
        "outputId": "179c968d-2c9d-4a0f-ef8e-b6bde9002e63"
      },
      "source": [
        "# Create a pandas DataFrame: df\n",
        "df = pd.DataFrame(nmf_features, index=titles)\n",
        "\n",
        "# Print the row for 'Anne Hathaway'\n",
        "print(df.loc['Anne Hathaway'])\n",
        "\n",
        "# Print the row for 'Denzel Washington'\n",
        "print(df.loc['Denzel Washington'])"
      ],
      "execution_count": null,
      "outputs": [
        {
          "output_type": "stream",
          "name": "stdout",
          "text": [
            "0    0.002808\n",
            "1    0.012405\n",
            "2    0.024693\n",
            "3    0.005870\n",
            "4    0.011288\n",
            "5    0.012912\n",
            "Name: Anne Hathaway, dtype: float64\n",
            "0    0.006303\n",
            "1    0.086914\n",
            "2    0.016514\n",
            "3    0.031280\n",
            "4    0.015470\n",
            "5    0.114810\n",
            "Name: Denzel Washington, dtype: float64\n"
          ]
        }
      ]
    },
    {
      "cell_type": "markdown",
      "metadata": {
        "id": "9OeIjNowowZM"
      },
      "source": [
        "# NMF learns interpretable parts"
      ]
    },
    {
      "cell_type": "markdown",
      "metadata": {
        "id": "fz-ICffCo95A"
      },
      "source": [
        "## NMF learns topics of documents"
      ]
    },
    {
      "cell_type": "code",
      "metadata": {
        "id": "FM2B7vaepL5-"
      },
      "source": [
        "words = pd.read_csv('/content/Wikipedia articles/wikipedia-vocabulary-utf8.txt', header=None)\n",
        "words = words[0].to_list()"
      ],
      "execution_count": null,
      "outputs": []
    },
    {
      "cell_type": "code",
      "metadata": {
        "colab": {
          "base_uri": "https://localhost:8080/"
        },
        "id": "739YCMNao7N3",
        "outputId": "e94efca3-2189-447f-ec86-94c7bf9d5244"
      },
      "source": [
        "# Create a DataFrame: components_df\n",
        "components_df = pd.DataFrame(model.components_, columns=words)\n",
        "\n",
        "# Print the shape of the DataFrame\n",
        "print(components_df.shape)\n",
        "\n",
        "# Select row 3: component\n",
        "component = components_df.iloc[3]\n",
        "\n",
        "# Print result of nlargest\n",
        "print(component.nlargest())\n"
      ],
      "execution_count": null,
      "outputs": [
        {
          "output_type": "stream",
          "name": "stdout",
          "text": [
            "(6, 13125)\n",
            "write        0.642358\n",
            "symptoms     0.319587\n",
            "synonym      0.275269\n",
            "writes       0.264831\n",
            "southward    0.233779\n",
            "Name: 3, dtype: float64\n"
          ]
        }
      ]
    },
    {
      "cell_type": "markdown",
      "metadata": {
        "id": "EhomC4uTpgER"
      },
      "source": [
        "## Explore the LED digits dataset\n",
        "\n",
        "In the following exercises, you'll use NMF to decompose grayscale images into their commonly occurring patterns. Firstly, explore the image dataset and see how it is encoded as an array. You are given 100 images as a 2D array **`samples`**, where each row represents a single 13x8 image. The images in your dataset are pictures of a LED digital display."
      ]
    },
    {
      "cell_type": "code",
      "metadata": {
        "colab": {
          "base_uri": "https://localhost:8080/"
        },
        "id": "zCs-O8_2prfj",
        "outputId": "d844049e-05a7-4bfb-d035-2ab9bd8d3cdd"
      },
      "source": [
        "!wget 'https://assets.datacamp.com/production/repositories/655/datasets/effd1557b8146ab6e620a18d50c9ed82df990dce/lcd-digits.csv'"
      ],
      "execution_count": null,
      "outputs": [
        {
          "output_type": "stream",
          "name": "stdout",
          "text": [
            "--2021-10-04 14:55:15--  https://assets.datacamp.com/production/repositories/655/datasets/effd1557b8146ab6e620a18d50c9ed82df990dce/lcd-digits.csv\n",
            "Resolving assets.datacamp.com (assets.datacamp.com)... 104.18.17.147, 104.18.16.147\n",
            "Connecting to assets.datacamp.com (assets.datacamp.com)|104.18.17.147|:443... connected.\n",
            "HTTP request sent, awaiting response... 200 OK\n",
            "Length: 41600 (41K)\n",
            "Saving to: ‘lcd-digits.csv.1’\n",
            "\n",
            "lcd-digits.csv.1    100%[===================>]  40.62K  --.-KB/s    in 0s      \n",
            "\n",
            "2021-10-04 14:55:15 (113 MB/s) - ‘lcd-digits.csv.1’ saved [41600/41600]\n",
            "\n"
          ]
        }
      ]
    },
    {
      "cell_type": "code",
      "metadata": {
        "id": "ppi_mF1MptxK"
      },
      "source": [
        "samples = pd.read_csv('/content/lcd-digits.csv', header=None).to_numpy()"
      ],
      "execution_count": null,
      "outputs": []
    },
    {
      "cell_type": "code",
      "metadata": {
        "colab": {
          "base_uri": "https://localhost:8080/",
          "height": 575
        },
        "id": "raulsxd6pRYF",
        "outputId": "affed8c8-6b0e-4029-ed24-396622afbdf3"
      },
      "source": [
        "# Select the 0th row: digit\n",
        "digit = samples[0, :]\n",
        "\n",
        "# Print digit\n",
        "print(digit)\n",
        "\n",
        "# Reshape digit to a 13x8 array: bitmap\n",
        "bitmap = digit.reshape((13, 8))\n",
        "\n",
        "# Print bitmap\n",
        "print(bitmap)\n",
        "\n",
        "# Use plt.imshow to display bitmap\n",
        "plt.imshow(bitmap, cmap='gray', interpolation='nearest')\n",
        "plt.colorbar()\n",
        "plt.show()"
      ],
      "execution_count": null,
      "outputs": [
        {
          "output_type": "stream",
          "name": "stdout",
          "text": [
            "[0. 0. 0. 0. 0. 0. 0. 0. 0. 0. 1. 1. 1. 1. 0. 0. 0. 0. 0. 0. 0. 0. 1. 0.\n",
            " 0. 0. 0. 0. 0. 0. 1. 0. 0. 0. 0. 0. 0. 0. 1. 0. 0. 0. 0. 0. 0. 0. 1. 0.\n",
            " 0. 0. 0. 0. 0. 0. 0. 0. 0. 0. 0. 0. 0. 0. 1. 0. 0. 0. 0. 0. 0. 0. 1. 0.\n",
            " 0. 0. 0. 0. 0. 0. 1. 0. 0. 0. 0. 0. 0. 0. 1. 0. 0. 0. 0. 0. 0. 0. 0. 0.\n",
            " 0. 0. 0. 0. 0. 0. 0. 0.]\n",
            "[[0. 0. 0. 0. 0. 0. 0. 0.]\n",
            " [0. 0. 1. 1. 1. 1. 0. 0.]\n",
            " [0. 0. 0. 0. 0. 0. 1. 0.]\n",
            " [0. 0. 0. 0. 0. 0. 1. 0.]\n",
            " [0. 0. 0. 0. 0. 0. 1. 0.]\n",
            " [0. 0. 0. 0. 0. 0. 1. 0.]\n",
            " [0. 0. 0. 0. 0. 0. 0. 0.]\n",
            " [0. 0. 0. 0. 0. 0. 1. 0.]\n",
            " [0. 0. 0. 0. 0. 0. 1. 0.]\n",
            " [0. 0. 0. 0. 0. 0. 1. 0.]\n",
            " [0. 0. 0. 0. 0. 0. 1. 0.]\n",
            " [0. 0. 0. 0. 0. 0. 0. 0.]\n",
            " [0. 0. 0. 0. 0. 0. 0. 0.]]\n"
          ]
        },
        {
          "output_type": "display_data",
          "data": {
            "image/png": "[encoded data removed]",
            "text/plain": [
              "<Figure size 432x288 with 2 Axes>"
            ]
          },
          "metadata": {
            "needs_background": "light"
          }
        }
      ]
    },
    {
      "cell_type": "markdown",
      "metadata": {
        "id": "IJJJXbqhqBCb"
      },
      "source": [
        "NMF learns the parts of images\n",
        "\n",
        "Now use what you've learned about NMF to decompose the digits dataset. You are again given the digit images as a 2D array **`samples`**. This time, you are also provided with a function **`show_as_image(`**) that displays the image encoded by any 1D array:"
      ]
    },
    {
      "cell_type": "code",
      "metadata": {
        "id": "hP5W18uMp8a3"
      },
      "source": [
        "def show_as_image(sample):\n",
        "    bitmap = sample.reshape((13, 8))\n",
        "    plt.figure()\n",
        "    plt.imshow(bitmap, cmap='gray', interpolation='nearest')\n",
        "    plt.colorbar()\n",
        "    plt.show()"
      ],
      "execution_count": null,
      "outputs": []
    },
    {
      "cell_type": "markdown",
      "metadata": {
        "id": "P34oJ0MGqN1N"
      },
      "source": [
        "After you are done, take a moment to look through the plots and notice how NMF has expressed the digit as a sum of the components!"
      ]
    },
    {
      "cell_type": "code",
      "metadata": {
        "colab": {
          "base_uri": "https://localhost:8080/",
          "height": 1000
        },
        "id": "-OquxdlRp2Ws",
        "outputId": "722437ac-0239-49ea-e050-42794ad6e954"
      },
      "source": [
        "# Create an NMF model: model\n",
        "model = NMF(n_components=7)\n",
        "\n",
        "# Apply fit_transform to samples: features\n",
        "features = model.fit_transform(samples)\n",
        "\n",
        "# Call show_as_image on each component\n",
        "for component in model.components_:\n",
        "    show_as_image(component)\n",
        "\n",
        "# Assign the 0th row of features: digit_features\n",
        "digit_features = features[0, :]\n",
        "\n",
        "# Print digit_features\n",
        "print(digit_features)"
      ],
      "execution_count": null,
      "outputs": [
        {
          "output_type": "display_data",
          "data": {
            "image/png": "[encoded data removed]",
            "text/plain": [
              "<Figure size 432x288 with 2 Axes>"
            ]
          },
          "metadata": {
            "needs_background": "light"
          }
        },
        {
          "output_type": "display_data",
          "data": {
            "image/png": "[encoded data removed]",
            "text/plain": [
              "<Figure size 432x288 with 2 Axes>"
            ]
          },
          "metadata": {
            "needs_background": "light"
          }
        },
        {
          "output_type": "display_data",
          "data": {
            "image/png": "[encoded data removed]",
            "text/plain": [
              "<Figure size 432x288 with 2 Axes>"
            ]
          },
          "metadata": {
            "needs_background": "light"
          }
        },
        {
          "output_type": "display_data",
          "data": {
            "image/png": "[encoded data removed]",
            "text/plain": [
              "<Figure size 432x288 with 2 Axes>"
            ]
          },
          "metadata": {
            "needs_background": "light"
          }
        },
        {
          "output_type": "display_data",
          "data": {
            "image/png": "[encoded data removed]",
            "text/plain": [
              "<Figure size 432x288 with 2 Axes>"
            ]
          },
          "metadata": {
            "needs_background": "light"
          }
        },
        {
          "output_type": "display_data",
          "data": {
            "image/png": "[encoded data removed]",
            "text/plain": [
              "<Figure size 432x288 with 2 Axes>"
            ]
          },
          "metadata": {
            "needs_background": "light"
          }
        },
        {
          "output_type": "display_data",
          "data": {
            "image/png": "[encoded data removed]",
            "text/plain": [
              "<Figure size 432x288 with 2 Axes>"
            ]
          },
          "metadata": {
            "needs_background": "light"
          }
        },
        {
          "output_type": "stream",
          "name": "stdout",
          "text": [
            "[4.76823559e-01 0.00000000e+00 0.00000000e+00 5.90605054e-01\n",
            " 4.81559442e-01 0.00000000e+00 7.37557191e-16]\n"
          ]
        }
      ]
    },
    {
      "cell_type": "markdown",
      "metadata": {
        "id": "Tefr8pYrqZ3i"
      },
      "source": [
        "## PCA doesn't learn parts\n",
        "\n",
        "Unlike NMF, PCA doesn't learn the parts of things. Its components do not correspond to topics (in the case of documents) or to parts of images, when trained on images. Verify this for yourself by inspecting the components of a PCA model fit to the dataset of LED digit images from the previous exercise. The images are available as a 2D array **`samples`**. Also available is a modified version of the **`show_as_image()`** function which colors a pixel red if the value is negative.\n",
        "\n",
        "Notice that the components of PCA do not represent meaningful parts of images of LED digits!"
      ]
    },
    {
      "cell_type": "code",
      "metadata": {
        "colab": {
          "base_uri": "https://localhost:8080/",
          "height": 1000
        },
        "id": "s31ZYviEqHs2",
        "outputId": "1b8dc8c8-2f91-4e75-eaa1-75074584b00d"
      },
      "source": [
        "# Create a PCA instance: model\n",
        "model = PCA(n_components=7)\n",
        "\n",
        "# Apply fit_transform to samples: features\n",
        "features = model.fit_transform(samples)\n",
        "\n",
        "# Call show_as_image on each component\n",
        "for component in model.components_:\n",
        "    show_as_image(component)"
      ],
      "execution_count": null,
      "outputs": [
        {
          "output_type": "display_data",
          "data": {
            "image/png": "[encoded data removed]",
            "text/plain": [
              "<Figure size 432x288 with 2 Axes>"
            ]
          },
          "metadata": {
            "needs_background": "light"
          }
        },
        {
          "output_type": "display_data",
          "data": {
            "image/png": "[encoded data removed]",
            "text/plain": [
              "<Figure size 432x288 with 2 Axes>"
            ]
          },
          "metadata": {
            "needs_background": "light"
          }
        },
        {
          "output_type": "display_data",
          "data": {
            "image/png": "[encoded data removed]",
            "text/plain": [
              "<Figure size 432x288 with 2 Axes>"
            ]
          },
          "metadata": {
            "needs_background": "light"
          }
        },
        {
          "output_type": "display_data",
          "data": {
            "image/png": "[encoded data removed]",
            "text/plain": [
              "<Figure size 432x288 with 2 Axes>"
            ]
          },
          "metadata": {
            "needs_background": "light"
          }
        },
        {
          "output_type": "display_data",
          "data": {
            "image/png": "[encoded data removed]",
            "text/plain": [
              "<Figure size 432x288 with 2 Axes>"
            ]
          },
          "metadata": {
            "needs_background": "light"
          }
        },
        {
          "output_type": "display_data",
          "data": {
            "image/png": "[encoded data removed]",
            "text/plain": [
              "<Figure size 432x288 with 2 Axes>"
            ]
          },
          "metadata": {
            "needs_background": "light"
          }
        },
        {
          "output_type": "display_data",
          "data": {
            "image/png": "[encoded data removed]",
            "text/plain": [
              "<Figure size 432x288 with 2 Axes>"
            ]
          },
          "metadata": {
            "needs_background": "light"
          }
        }
      ]
    },
    {
      "cell_type": "markdown",
      "metadata": {
        "id": "DQeHNJ3PqqJ4"
      },
      "source": [
        "# Building recommender systems using NMF\n",
        "Suppose that you are an engineer at a large online newspaper. You've been given the task of recommending articles that are similar to the article currently being read by a customer. Given an article, how can you find articles that have similar topics?\n",
        "\n",
        "## Strategy\n",
        "Our strategy for solving this problem is to apply NMF to the word-frequency array of the articles, and to use the resulting NMF features."
      ]
    },
    {
      "cell_type": "markdown",
      "metadata": {
        "id": "uIp5NUBxq7eT"
      },
      "source": [
        "## Which articles are similar to 'Cristiano Ronaldo'?\n",
        "\n",
        "In the video, you learned how to use NMF features and the cosine similarity to find similar articles. Apply this to your NMF model for popular Wikipedia articles, by finding the articles most similar to the article about the footballer Cristiano Ronaldo. The NMF features you obtained earlier are available as **`nmf_features`**, while **`titles`** is a list of the article titles."
      ]
    },
    {
      "cell_type": "code",
      "metadata": {
        "colab": {
          "base_uri": "https://localhost:8080/"
        },
        "id": "RQzRFUI6qgLf",
        "outputId": "c5672acd-ae89-4731-8069-ba92cfad8507"
      },
      "source": [
        "# Normalize the NMF features: norm_features\n",
        "norm_features = normalize(nmf_features)\n",
        "\n",
        "# Create a DataFrame: df\n",
        "df = pd.DataFrame(norm_features, index=titles)\n",
        "\n",
        "# Select the row corresponding to 'Cristiano Ronaldo': article\n",
        "article = df.loc['Cristiano Ronaldo']\n",
        "\n",
        "# Compute the dot products: similarities\n",
        "similarities = df.dot(article)\n",
        "\n",
        "# Display those with the largest cosine similarity\n",
        "print(similarities.nlargest())"
      ],
      "execution_count": null,
      "outputs": [
        {
          "output_type": "stream",
          "name": "stdout",
          "text": [
            "Cristiano Ronaldo    1.000000\n",
            "Angelina Jolie       0.949824\n",
            "Adam Levine          0.941409\n",
            "Social search        0.937445\n",
            "The Wanted           0.937337\n",
            "dtype: float64\n"
          ]
        }
      ]
    },
    {
      "cell_type": "markdown",
      "metadata": {
        "id": "4RcaNYYJrsma"
      },
      "source": [
        "##Recommend musical artists part I\n"
      ]
    },
    {
      "cell_type": "markdown",
      "metadata": {
        "id": "Ys9120b_vt2b"
      },
      "source": [
        "### Load the Data"
      ]
    },
    {
      "cell_type": "code",
      "metadata": {
        "colab": {
          "base_uri": "https://localhost:8080/"
        },
        "id": "l9LAVKqsvWW4",
        "outputId": "255bc812-37f5-481b-9838-8e52141468c3"
      },
      "source": [
        "!wget 'https://raw.githubusercontent.com/thaile-isme/datasets-for-datacamp/main/artists.csv'\n",
        "\n",
        "artists = pd.read_csv('/content/artists.csv')\n",
        "artists = scipy.sparse.csr_matrix(artists)"
      ],
      "execution_count": null,
      "outputs": [
        {
          "output_type": "stream",
          "name": "stdout",
          "text": [
            "--2021-10-04 14:56:42--  https://raw.githubusercontent.com/thaile-isme/datasets-for-datacamp/main/artists.csv\n",
            "Resolving raw.githubusercontent.com (raw.githubusercontent.com)... 185.199.109.133, 185.199.111.133, 185.199.108.133, ...\n",
            "Connecting to raw.githubusercontent.com (raw.githubusercontent.com)|185.199.109.133|:443... connected.\n",
            "HTTP request sent, awaiting response... 200 OK\n",
            "Length: 228356 (223K) [text/plain]\n",
            "Saving to: ‘artists.csv.4’\n",
            "\n",
            "\rartists.csv.4         0%[                    ]       0  --.-KB/s               \rartists.csv.4       100%[===================>] 223.00K  --.-KB/s    in 0.05s   \n",
            "\n",
            "2021-10-04 14:56:42 (4.14 MB/s) - ‘artists.csv.4’ saved [228356/228356]\n",
            "\n"
          ]
        }
      ]
    },
    {
      "cell_type": "code",
      "metadata": {
        "colab": {
          "base_uri": "https://localhost:8080/"
        },
        "id": "uwJN6g1Vv5GK",
        "outputId": "2289ed61-1768-4e85-85de-9526feb3b804"
      },
      "source": [
        "!wget 'https://assets.datacamp.com/production/repositories/655/datasets/c974f2f2c4834958cbe5d239557fbaf4547dc8a3/Musical%20artists.zip'\n",
        "!unzip '/content/Musical artists.zip'\n",
        "\n",
        "artist_names = pd.read_csv(\"/content/Musical artists/artists.csv\", header=None)\n",
        "artist_names = artist_names[0].to_list()"
      ],
      "execution_count": null,
      "outputs": [
        {
          "output_type": "stream",
          "name": "stdout",
          "text": [
            "--2021-10-04 14:55:37--  https://assets.datacamp.com/production/repositories/655/datasets/c974f2f2c4834958cbe5d239557fbaf4547dc8a3/Musical%20artists.zip\n",
            "Resolving assets.datacamp.com (assets.datacamp.com)... 104.18.17.147, 104.18.16.147\n",
            "Connecting to assets.datacamp.com (assets.datacamp.com)|104.18.17.147|:443... connected.\n",
            "HTTP request sent, awaiting response... 200 OK\n",
            "Length: 13332 (13K)\n",
            "Saving to: ‘Musical artists.zip.1’\n",
            "\n",
            "Musical artists.zip 100%[===================>]  13.02K  --.-KB/s    in 0.01s   \n",
            "\n",
            "2021-10-04 14:55:37 (1.16 MB/s) - ‘Musical artists.zip.1’ saved [13332/13332]\n",
            "\n",
            "Archive:  /content/Musical artists.zip\n",
            "replace Musical artists/artists.csv? [y]es, [n]o, [A]ll, [N]one, [r]ename: "
          ]
        }
      ]
    },
    {
      "cell_type": "markdown",
      "metadata": {
        "id": "wCfXMVeSv1QR"
      },
      "source": [
        "You are given a sparse array artists whose rows correspond to **`artists`** and whose columns correspond to users. The entries give the number of times each artist was listened to by each user."
      ]
    },
    {
      "cell_type": "code",
      "metadata": {
        "id": "y5S6Rbizrwh7"
      },
      "source": [
        "# Create a MaxAbsScaler: scaler\n",
        "scaler = MaxAbsScaler()\n",
        "\n",
        "# Create an NMF model: nmf\n",
        "nmf = NMF(n_components=20)\n",
        "\n",
        "# Create a Normalizer: normalizer\n",
        "normalizer = Normalizer()\n",
        "\n",
        "# Create a pipeline: pipeline\n",
        "pipeline = make_pipeline(scaler, nmf, normalizer)\n",
        "\n",
        "# Apply fit_transform to artists: norm_features\n",
        "norm_features = pipeline.fit_transform(artists)"
      ],
      "execution_count": null,
      "outputs": []
    },
    {
      "cell_type": "markdown",
      "metadata": {
        "id": "TGiRGgvRyXlI"
      },
      "source": [
        "## Recommend musical artists part II\n",
        "\n",
        "Suppose you were a big fan of Bruce Springsteen - which other musicial artists might you like? Use your NMF features from the previous exercise and the cosine similarity to find similar musical artists. A solution to the previous exercise has been run, so **`norm_features`** is an array containing the normalized NMF features as rows. The names of the musical artists are available as the list **`artist_names`**."
      ]
    },
    {
      "cell_type": "code",
      "metadata": {
        "colab": {
          "base_uri": "https://localhost:8080/"
        },
        "id": "wWvsbJdWukz3",
        "outputId": "2ad57550-54d9-457b-e226-9d67aab44990"
      },
      "source": [
        "# Create a DataFrame: df\n",
        "df = pd.DataFrame(norm_features, index=artist_names)\n",
        "\n",
        "# Select row of 'Bruce Springsteen': artist\n",
        "artist = df.loc['Bruce Springsteen']\n",
        "\n",
        "# Compute cosine similarities: similarities\n",
        "similarities = df.dot(artist)\n",
        "\n",
        "# Display those with highest cosine similarity\n",
        "print(similarities.nlargest())"
      ],
      "execution_count": null,
      "outputs": [
        {
          "output_type": "stream",
          "name": "stdout",
          "text": [
            "Bruce Springsteen    1.000000\n",
            "Neil Young           0.955419\n",
            "Van Morrison         0.871051\n",
            "Leonard Cohen        0.863462\n",
            "Bob Dylan            0.857675\n",
            "dtype: float64\n"
          ]
        }
      ]
    },
    {
      "cell_type": "code",
      "metadata": {
        "id": "wgpOztQqw4Me"
      },
      "source": [
        ""
      ],
      "execution_count": null,
      "outputs": []
    }
  ]
}