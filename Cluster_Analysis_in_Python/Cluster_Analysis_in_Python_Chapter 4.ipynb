{
  "nbformat": 4,
  "nbformat_minor": 0,
  "metadata": {
    "colab": {
      "name": "Cluster Analysis in Python.ipynb",
      "provenance": [],
      "authorship_tag": "ABX9TyO7K+socaIWiFwSbEgIdsin",
      "include_colab_link": true
    },
    "kernelspec": {
      "name": "python3",
      "display_name": "Python 3"
    },
    "language_info": {
      "name": "python"
    }
  },
  "cells": [
    {
      "cell_type": "markdown",
      "metadata": {
        "id": "view-in-github",
        "colab_type": "text"
      },
      "source": [
        "<a href=\"https://colab.research.google.com/github/tuantran221/intro-Machine-Learning/blob/main/Cluster_Analysis_in_Python/Cluster_Analysis_in_Python_Chapter%204.ipynb\" target=\"_parent\"><img src=\"https://colab.research.google.com/assets/colab-badge.svg\" alt=\"Open In Colab\"/></a>"
      ]
    },
    {
      "cell_type": "markdown",
      "metadata": {
        "id": "wy9m8waGsyUn"
      },
      "source": [
        "# Cluster Analysis in Python\n",
        "**Chapter 4: Clustering in Real World**\n",
        "\n",
        "\n"
      ]
    },
    {
      "cell_type": "code",
      "metadata": {
        "id": "xz4q2Pvzs0G5"
      },
      "source": [
        ""
      ],
      "execution_count": null,
      "outputs": []
    }
  ]
}